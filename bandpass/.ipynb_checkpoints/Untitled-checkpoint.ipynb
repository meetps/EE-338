{
 "cells": [
  {
   "cell_type": "code",
   "execution_count": 2,
   "metadata": {
    "collapsed": true
   },
   "outputs": [],
   "source": [
    "import numpy as np\n",
    "import scipy as sp\n",
    "import pylab as pl\n",
    "import scipy.signal as sg\n",
    "import matplotlib.pyplot as plt\n",
    "import matplotlib.patches as pat\n",
    "\n",
    "filter_number = 82\n",
    "delta_stop = 0.15\n",
    "delta_pass = 0.15\n",
    "f_sample = 100000\n",
    "h_transistion = 2\n",
    "l_transistion = 2\n",
    "\n",
    "m = 7\n",
    "q = 0\n",
    "r = 7\n",
    "passband_lower_freq  = 4 + 0.7*q + 2*r\n",
    "passband_higher_freq = passband_lower_freq + 10"
   ]
  },
  {
   "cell_type": "code",
   "execution_count": null,
   "metadata": {
    "collapsed": true
   },
   "outputs": [],
   "source": [
    "# Analog Values\n",
    "omega_s1=(passband_lower_freq-l_transistion)*1000.0\n",
    "omega_p1=(passband_lower_freq)*1000.0\n",
    "omega_p2=(passband_higher_freq)*1000.0\n",
    "omega_s2=(passband_higher_freq+h_transistion)*1000.0"
   ]
  }
 ],
 "metadata": {
  "kernelspec": {
   "display_name": "Python 2",
   "language": "python",
   "name": "python2"
  },
  "language_info": {
   "codemirror_mode": {
    "name": "ipython",
    "version": 2
   },
   "file_extension": ".py",
   "mimetype": "text/x-python",
   "name": "python",
   "nbconvert_exporter": "python",
   "pygments_lexer": "ipython2",
   "version": "2.7.6"
  }
 },
 "nbformat": 4,
 "nbformat_minor": 0
}
